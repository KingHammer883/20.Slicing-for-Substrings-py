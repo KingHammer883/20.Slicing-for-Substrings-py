{
 "cells": [
  {
   "cell_type": "code",
   "execution_count": 1,
   "metadata": {
    "ExecuteTime": {
     "end_time": "2019-01-21T19:41:13.832915Z",
     "start_time": "2019-01-21T19:41:13.815950Z"
    }
   },
   "outputs": [
    {
     "name": "stdout",
     "output_type": "stream",
     "text": [
      "myfile.txt\n",
      "m\n",
      "my\n",
      "myfile.txt\n",
      "txt\n",
      "file\n"
     ]
    },
    {
     "data": {
      "text/plain": [
       "\"Generally, when two integer positions are included in the slice, the range of character in the substring extends from the first position up to but not including the second position.\\n\\nWhen the integer is omitted on either side of the colon, all of the characters extending to the end or the beginning are included in the substring. Note that the last line of code provides the correct range to obtain the filename's three-character extension\""
      ]
     },
     "execution_count": 1,
     "metadata": {},
     "output_type": "execute_result"
    }
   ],
   "source": [
    "# -*- coding: utf-8 -*-\n",
    "\"\"\"\n",
    "Created on Fri Jan 21, 2019\n",
    "File: Slicing for Substrings\n",
    "@author: Byen23\n",
    "\n",
    "Some applications extract portions of strings called substrings. FOr example, an application that sorts filenames according to type might use the last three characters in a filename, called its 'extension', to determine the file's type(exceptions to this rule, such as the extensions '.py', and '.html', will be considered later in this chapter). \n",
    "\n",
    "On a Windows file system, a filename ending in '.txt' denotes a human-readable text file, whereas a filename ending in '.exe' denotes an executable file of machine code. You can use Python's subscript operator to obtain a substring through a process called 'slicing'. To extract a substring, the progreammer places a colon(:) in the subscript. An integer value can appear on either side of the colon. Here are some examples that show how slicing is used:\n",
    "\"\"\"\n",
    "\n",
    "name = \"myfile.txt\" \t\t# The entire string\n",
    "print(name[0:])\n",
    "\n",
    "print(name[0:1])\t\t\t# The first character\n",
    "\n",
    "print(name[0:2]) \t\t\t# The first two characters\n",
    "\n",
    "print(name[:len(name)])\t\t# The entire string\n",
    "\n",
    "print(name[-3:])\t\t\t# The last three characters\n",
    "\n",
    "print(name[2:6])\t\t\t# Drill to extract 'file'\n",
    "\n",
    "\"\"\"Generally, when two integer positions are included in the slice, the range of character in the substring extends from the first position up to but not including the second position.\n",
    "\n",
    "When the integer is omitted on either side of the colon, all of the characters extending to the end or the beginning are included in the substring. Note that the last line of code provides the correct range to obtain the filename's three-character extension\"\"\""
   ]
  }
 ],
 "metadata": {
  "kernelspec": {
   "display_name": "Python 3",
   "language": "python",
   "name": "python3"
  },
  "language_info": {
   "codemirror_mode": {
    "name": "ipython",
    "version": 3
   },
   "file_extension": ".py",
   "mimetype": "text/x-python",
   "name": "python",
   "nbconvert_exporter": "python",
   "pygments_lexer": "ipython3",
   "version": "3.6.8"
  }
 },
 "nbformat": 4,
 "nbformat_minor": 2
}
